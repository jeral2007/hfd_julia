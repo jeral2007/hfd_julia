{
 "cells": [
  {
   "cell_type": "code",
   "execution_count": 6,
   "id": "ef6ffc88-a838-418a-bf42-4801bd490bff",
   "metadata": {},
   "outputs": [
    {
     "data": {
      "text/plain": [
       "100×100 Matrix{Float64}:\n",
       " 0.622132   0.979937   0.878121   …  0.60163    0.829046    0.347172\n",
       " 0.381711   0.186892   0.269061      0.271835   0.616504    0.979965\n",
       " 0.640267   0.367854   0.440008      0.754427   0.309994    0.734078\n",
       " 0.381581   0.0710208  0.104405      0.727562   0.779348    0.236516\n",
       " 0.906111   0.0247212  0.110433      0.861573   0.791628    0.358224\n",
       " 0.512759   0.830195   0.628176   …  0.241672   0.183572    0.956419\n",
       " 0.25001    0.106591   0.470208      0.144881   0.778122    0.548307\n",
       " 0.530193   0.372534   0.482159      0.880779   0.821807    0.686484\n",
       " 0.602836   0.781622   0.375112      0.956534   0.351681    0.721121\n",
       " 0.701773   0.860514   0.0959624     0.928031   0.958223    0.126019\n",
       " 0.0379015  0.139954   0.445724   …  0.375712   0.931331    0.529284\n",
       " 0.251595   0.747832   0.943856      0.922851   0.207883    0.979375\n",
       " 0.872945   0.173492   0.396486      0.0101451  0.105432    0.0468076\n",
       " ⋮                                ⋱                         \n",
       " 0.912878   0.020483   0.570813      0.424728   0.900893    0.0218495\n",
       " 0.781802   0.244746   0.582815      0.350379   0.320961    0.395506\n",
       " 0.0305262  0.765482   0.832702   …  0.296115   0.7447      0.353323\n",
       " 0.735862   0.716549   0.5394        0.312127   0.576675    0.823618\n",
       " 0.844503   0.240251   0.559866      0.697859   0.0761941   0.182193\n",
       " 0.3475     0.436425   0.159655      0.587756   0.671784    0.0088978\n",
       " 0.751297   0.0678005  0.714029      0.397345   0.00808303  0.50066\n",
       " 0.0142662  0.657723   0.794806   …  0.968002   0.013019    0.984226\n",
       " 0.67589    0.554605   0.674722      0.1857     0.482174    0.162084\n",
       " 0.970613   0.527812   0.179703      0.874901   0.50572     0.605077\n",
       " 0.350915   0.423221   0.495116      0.765347   0.748877    0.443883\n",
       " 0.14826    0.982557   0.520649      0.0491203  0.663585    0.874844"
      ]
     },
     "execution_count": 6,
     "metadata": {},
     "output_type": "execute_result"
    }
   ],
   "source": [
    "using LinearAlgebra\n",
    "A = rand(100, 100)"
   ]
  },
  {
   "cell_type": "code",
   "execution_count": 70,
   "id": "cdb86d65-3be1-4190-98ca-d5010494d333",
   "metadata": {},
   "outputs": [
    {
     "data": {
      "text/plain": [
       "inv_diagupdate!"
      ]
     },
     "execution_count": 70,
     "metadata": {},
     "output_type": "execute_result"
    }
   ],
   "source": [
    "\"\"\"evaluates inverse of A' = (A  - λB), where B is diagonal.\n",
    "Uses _Sherman–Morrison_ formula for rank-one update. It is still O(N^3) by time, but without extra memory cost\n",
    "Arguments:\n",
    "- Ainv::Matrix{T} - original matrix inverse\n",
    "- bdiag::Vector - diagonal of correction matrix B.\n",
    "- lam -- λ value.\n",
    "\n",
    "This function overwrites **Ainv**. Returns true if finished succesfully (i.e lam != bdiag[kk] for all kk)\n",
    "\"\"\"\n",
    "function inv_diagupdate!(Ainv::Matrix{T}, bdiag::Vector{T}, lam::T) where {T}\n",
    "    N = length(bdiag)\n",
    "    @assert N>0\n",
    "    @inbounds @fastmath for kk=1:N, jj=1:N, ii=1:N\n",
    "        koeff = (1 - lam*bdiag[kk])\n",
    "        if abs.(koeff)<eps(T)\n",
    "            #@warn \"inv_diagupdate: lam=$lam==1/bdiag[$kk]\"\n",
    "            return false\n",
    "        end\n",
    "        Ainv[ii, jj] += Ainv[ii, kk]*Ainv[kk, jj]/koeff\n",
    "    end\n",
    "    return true\n",
    "end"
   ]
  },
  {
   "cell_type": "code",
   "execution_count": 75,
   "id": "08bced3c-fa2a-4b99-99db-b1253f8d53e2",
   "metadata": {},
   "outputs": [
    {
     "name": "stdout",
     "output_type": "stream",
     "text": [
      "  0.000452 seconds (9 allocations: 129.203 KiB)\n",
      "  0.001676 seconds\n",
      "  0.000345 seconds (9 allocations: 129.203 KiB)\n"
     ]
    },
    {
     "data": {
      "text/plain": [
       "100×100 Matrix{Float64}:\n",
       " NaN  NaN  NaN  NaN  NaN  NaN  NaN  NaN  …  NaN  NaN  NaN  NaN  NaN  NaN  NaN\n",
       " NaN  NaN  NaN  NaN  NaN  NaN  NaN  NaN     NaN  NaN  NaN  NaN  NaN  NaN  NaN\n",
       " NaN  NaN  NaN  NaN  NaN  NaN  NaN  NaN     NaN  NaN  NaN  NaN  NaN  NaN  NaN\n",
       " NaN  NaN  NaN  NaN  NaN  NaN  NaN  NaN     NaN  NaN  NaN  NaN  NaN  NaN  NaN\n",
       " NaN  NaN  NaN  NaN  NaN  NaN  NaN  NaN     NaN  NaN  NaN  NaN  NaN  NaN  NaN\n",
       " NaN  NaN  NaN  NaN  NaN  NaN  NaN  NaN  …  NaN  NaN  NaN  NaN  NaN  NaN  NaN\n",
       " NaN  NaN  NaN  NaN  NaN  NaN  NaN  NaN     NaN  NaN  NaN  NaN  NaN  NaN  NaN\n",
       " NaN  NaN  NaN  NaN  NaN  NaN  NaN  NaN     NaN  NaN  NaN  NaN  NaN  NaN  NaN\n",
       " NaN  NaN  NaN  NaN  NaN  NaN  NaN  NaN     NaN  NaN  NaN  NaN  NaN  NaN  NaN\n",
       " NaN  NaN  NaN  NaN  NaN  NaN  NaN  NaN     NaN  NaN  NaN  NaN  NaN  NaN  NaN\n",
       " NaN  NaN  NaN  NaN  NaN  NaN  NaN  NaN  …  NaN  NaN  NaN  NaN  NaN  NaN  NaN\n",
       " NaN  NaN  NaN  NaN  NaN  NaN  NaN  NaN     NaN  NaN  NaN  NaN  NaN  NaN  NaN\n",
       " NaN  NaN  NaN  NaN  NaN  NaN  NaN  NaN     NaN  NaN  NaN  NaN  NaN  NaN  NaN\n",
       "   ⋮                        ⋮            ⋱              ⋮                 \n",
       " NaN  NaN  NaN  NaN  NaN  NaN  NaN  NaN     NaN  NaN  NaN  NaN  NaN  NaN  NaN\n",
       " NaN  NaN  NaN  NaN  NaN  NaN  NaN  NaN     NaN  NaN  NaN  NaN  NaN  NaN  NaN\n",
       " NaN  NaN  NaN  NaN  NaN  NaN  NaN  NaN  …  NaN  NaN  NaN  NaN  NaN  NaN  NaN\n",
       " NaN  NaN  NaN  NaN  NaN  NaN  NaN  NaN     NaN  NaN  NaN  NaN  NaN  NaN  NaN\n",
       " NaN  NaN  NaN  NaN  NaN  NaN  NaN  NaN     NaN  NaN  NaN  NaN  NaN  NaN  NaN\n",
       " NaN  NaN  NaN  NaN  NaN  NaN  NaN  NaN     NaN  NaN  NaN  NaN  NaN  NaN  NaN\n",
       " NaN  NaN  NaN  NaN  NaN  NaN  NaN  NaN     NaN  NaN  NaN  NaN  NaN  NaN  NaN\n",
       " NaN  NaN  NaN  NaN  NaN  NaN  NaN  NaN  …  NaN  NaN  NaN  NaN  NaN  NaN  NaN\n",
       " NaN  NaN  NaN  NaN  NaN  NaN  NaN  NaN     NaN  NaN  NaN  NaN  NaN  NaN  NaN\n",
       " NaN  NaN  NaN  NaN  NaN  NaN  NaN  NaN     NaN  NaN  NaN  NaN  NaN  NaN  NaN\n",
       " NaN  NaN  NaN  NaN  NaN  NaN  NaN  NaN     NaN  NaN  NaN  NaN  NaN  NaN  NaN\n",
       " NaN  NaN  NaN  NaN  NaN  NaN  NaN  NaN     NaN  NaN  NaN  NaN  NaN  NaN  NaN"
      ]
     },
     "execution_count": 75,
     "metadata": {},
     "output_type": "execute_result"
    }
   ],
   "source": [
    "A = rand(100, 100)\n",
    "B = rand(size(A,2))\n",
    "A2 = A + diagm(B) \n",
    "@time A2inv = inv(A); \n",
    "@time inv_diagupdate!(A2inv, B, -1e0)\n",
    "@time inv(A2);\n",
    "A2inv"
   ]
  },
  {
   "cell_type": "code",
   "execution_count": 44,
   "id": "a5ed71eb-f73b-40b5-8eb4-80c68a376f0e",
   "metadata": {},
   "outputs": [
    {
     "name": "stdout",
     "output_type": "stream",
     "text": [
      "MethodInstance for inv_diagupdate!(::Matrix{Float64}, ::Vector{Float64}, ::Float64)\n",
      "  from inv_diagupdate!(\u001b[90mAinv\u001b[39m::\u001b[1mMatrix\u001b[22m\u001b[0m{T}, \u001b[90mbdiag\u001b[39m::\u001b[1mVector\u001b[22m\u001b[0m{T}, \u001b[90mlam\u001b[39m::\u001b[1mT\u001b[22m) where T\u001b[90m @\u001b[39m \u001b[90mMain\u001b[39m \u001b[90m\u001b[4mIn[42]:10\u001b[24m\u001b[39m\n",
      "Static Parameters\n",
      "  T = \u001b[36mFloat64\u001b[39m\n",
      "Arguments\n",
      "  #self#\u001b[36m::Core.Const(Main.inv_diagupdate!)\u001b[39m\n",
      "  Ainv\u001b[36m::Matrix{Float64}\u001b[39m\n",
      "  bdiag\u001b[36m::Vector{Float64}\u001b[39m\n",
      "  lam\u001b[36m::Float64\u001b[39m\n",
      "Locals\n",
      "  @_5\u001b[33m\u001b[1m::Union{Nothing, Tuple{Int64, Int64}}\u001b[22m\u001b[39m\n",
      "  N\u001b[36m::Int64\u001b[39m\n",
      "  @_7\u001b[33m\u001b[1m::Union{Nothing, Tuple{Int64, Int64}}\u001b[22m\u001b[39m\n",
      "  jj@_8\u001b[36m::Int64\u001b[39m\n",
      "  @_9\u001b[33m\u001b[1m::Union{Nothing, Tuple{Int64, Int64}}\u001b[22m\u001b[39m\n",
      "  ii@_10\u001b[36m::Int64\u001b[39m\n",
      "  jj@_11\u001b[36m::Int64\u001b[39m\n",
      "  kk\u001b[36m::Int64\u001b[39m\n",
      "  koeff\u001b[36m::Float64\u001b[39m\n",
      "  ii@_14\u001b[36m::Int64\u001b[39m\n",
      "Body\u001b[36m::Bool\u001b[39m\n",
      "\u001b[90m1 ──\u001b[39m       (N = Main.length(bdiag))\n",
      "\u001b[90m│   \u001b[39m %2  = N\u001b[36m::Int64\u001b[39m\n",
      "\u001b[90m│   \u001b[39m %3  = (1:%2)\u001b[36m::Core.PartialStruct(UnitRange{Int64}, Any[Core.Const(1), Int64])\u001b[39m\n",
      "\u001b[90m│   \u001b[39m       (@_5 = Base.iterate(%3))\n",
      "\u001b[90m│   \u001b[39m %5  = @_5\u001b[33m\u001b[1m::Union{Nothing, Tuple{Int64, Int64}}\u001b[22m\u001b[39m\n",
      "\u001b[90m│   \u001b[39m %6  = (%5 === nothing)\u001b[36m::Bool\u001b[39m\n",
      "\u001b[90m│   \u001b[39m %7  = Base.not_int(%6)\u001b[36m::Bool\u001b[39m\n",
      "\u001b[90m└───\u001b[39m       goto #12 if not %7\n",
      "\u001b[90m2 ┄─\u001b[39m %9  = @_5\u001b[36m::Tuple{Int64, Int64}\u001b[39m\n",
      "\u001b[90m│   \u001b[39m       (jj@_8 = Core.getfield(%9, 1))\n",
      "\u001b[90m│   \u001b[39m %11 = Core.getfield(%9, 2)\u001b[36m::Int64\u001b[39m\n",
      "\u001b[90m│   \u001b[39m %12 = N\u001b[36m::Int64\u001b[39m\n",
      "\u001b[90m│   \u001b[39m %13 = (1:%12)\u001b[36m::Core.PartialStruct(UnitRange{Int64}, Any[Core.Const(1), Int64])\u001b[39m\n",
      "\u001b[90m│   \u001b[39m       (@_7 = Base.iterate(%13))\n",
      "\u001b[90m│   \u001b[39m %15 = @_7\u001b[33m\u001b[1m::Union{Nothing, Tuple{Int64, Int64}}\u001b[22m\u001b[39m\n",
      "\u001b[90m│   \u001b[39m %16 = (%15 === nothing)\u001b[36m::Bool\u001b[39m\n",
      "\u001b[90m│   \u001b[39m %17 = Base.not_int(%16)\u001b[36m::Bool\u001b[39m\n",
      "\u001b[90m└───\u001b[39m       goto #10 if not %17\n",
      "\u001b[90m3 ┄─\u001b[39m %19 = @_7\u001b[36m::Tuple{Int64, Int64}\u001b[39m\n",
      "\u001b[90m│   \u001b[39m       (ii@_10 = Core.getfield(%19, 1))\n",
      "\u001b[90m│   \u001b[39m %21 = Core.getfield(%19, 2)\u001b[36m::Int64\u001b[39m\n",
      "\u001b[90m│   \u001b[39m %22 = N\u001b[36m::Int64\u001b[39m\n",
      "\u001b[90m│   \u001b[39m %23 = (1:%22)\u001b[36m::Core.PartialStruct(UnitRange{Int64}, Any[Core.Const(1), Int64])\u001b[39m\n",
      "\u001b[90m│   \u001b[39m       (@_9 = Base.iterate(%23))\n",
      "\u001b[90m│   \u001b[39m %25 = @_9\u001b[33m\u001b[1m::Union{Nothing, Tuple{Int64, Int64}}\u001b[22m\u001b[39m\n",
      "\u001b[90m│   \u001b[39m %26 = (%25 === nothing)\u001b[36m::Bool\u001b[39m\n",
      "\u001b[90m│   \u001b[39m %27 = Base.not_int(%26)\u001b[36m::Bool\u001b[39m\n",
      "\u001b[90m└───\u001b[39m       goto #8 if not %27\n",
      "\u001b[90m4 ┄─\u001b[39m %29 = jj@_8\u001b[36m::Int64\u001b[39m\n",
      "\u001b[90m│   \u001b[39m       (jj@_11 = %29)\n",
      "\u001b[90m│   \u001b[39m %31 = ii@_10\u001b[36m::Int64\u001b[39m\n",
      "\u001b[90m│   \u001b[39m       (ii@_14 = %31)\n",
      "\u001b[90m│   \u001b[39m %33 = @_9\u001b[36m::Tuple{Int64, Int64}\u001b[39m\n",
      "\u001b[90m│   \u001b[39m       (kk = Core.getfield(%33, 1))\n",
      "\u001b[90m│   \u001b[39m %35 = Core.getfield(%33, 2)\u001b[36m::Int64\u001b[39m\n",
      "\u001b[90m│   \u001b[39m %36 = Main.:-\u001b[36m::Core.Const(-)\u001b[39m\n",
      "\u001b[90m│   \u001b[39m %37 = Main.:*\u001b[36m::Core.Const(*)\u001b[39m\n",
      "\u001b[90m│   \u001b[39m %38 = kk\u001b[36m::Int64\u001b[39m\n",
      "\u001b[90m│   \u001b[39m %39 = Base.getindex(bdiag, %38)\u001b[36m::Float64\u001b[39m\n",
      "\u001b[90m│   \u001b[39m %40 = (%37)(lam, %39)\u001b[36m::Float64\u001b[39m\n",
      "\u001b[90m│   \u001b[39m       (koeff = (%36)(1, %40))\n",
      "\u001b[90m│   \u001b[39m %42 = Main.:<\u001b[36m::Core.Const(<)\u001b[39m\n",
      "\u001b[90m│   \u001b[39m %43 = koeff\u001b[36m::Float64\u001b[39m\n",
      "\u001b[90m│   \u001b[39m %44 = Base.broadcasted(Main.abs, %43)\u001b[36m::Base.Broadcast.Broadcasted{Base.Broadcast.DefaultArrayStyle{0}, Nothing, typeof(abs), Tuple{Float64}}\u001b[39m\n",
      "\u001b[90m│   \u001b[39m %45 = Base.materialize(%44)\u001b[36m::Float64\u001b[39m\n",
      "\u001b[90m│   \u001b[39m %46 = $(Expr(:static_parameter, 1))\u001b[36m::Core.Const(Float64)\u001b[39m\n",
      "\u001b[90m│   \u001b[39m %47 = Main.eps(%46)\u001b[36m::Core.Const(2.220446049250313e-16)\u001b[39m\n",
      "\u001b[90m│   \u001b[39m %48 = (%42)(%45, %47)\u001b[36m::Bool\u001b[39m\n",
      "\u001b[90m└───\u001b[39m       goto #6 if not %48\n",
      "\u001b[90m5 ──\u001b[39m       return false\n",
      "\u001b[90m6 ──\u001b[39m %51 = Main.:+\u001b[36m::Core.Const(+)\u001b[39m\n",
      "\u001b[90m│   \u001b[39m %52 = ii@_14\u001b[36m::Int64\u001b[39m\n",
      "\u001b[90m│   \u001b[39m %53 = jj@_11\u001b[36m::Int64\u001b[39m\n",
      "\u001b[90m│   \u001b[39m %54 = Base.getindex(Ainv, %52, %53)\u001b[36m::Float64\u001b[39m\n",
      "\u001b[90m│   \u001b[39m %55 = Main.:/\u001b[36m::Core.Const(/)\u001b[39m\n",
      "\u001b[90m│   \u001b[39m %56 = Main.:*\u001b[36m::Core.Const(*)\u001b[39m\n",
      "\u001b[90m│   \u001b[39m %57 = ii@_14\u001b[36m::Int64\u001b[39m\n",
      "\u001b[90m│   \u001b[39m %58 = kk\u001b[36m::Int64\u001b[39m\n",
      "\u001b[90m│   \u001b[39m %59 = Base.getindex(Ainv, %57, %58)\u001b[36m::Float64\u001b[39m\n",
      "\u001b[90m│   \u001b[39m %60 = kk\u001b[36m::Int64\u001b[39m\n",
      "\u001b[90m│   \u001b[39m %61 = jj@_11\u001b[36m::Int64\u001b[39m\n",
      "\u001b[90m│   \u001b[39m %62 = Base.getindex(Ainv, %60, %61)\u001b[36m::Float64\u001b[39m\n",
      "\u001b[90m│   \u001b[39m %63 = (%56)(%59, %62)\u001b[36m::Float64\u001b[39m\n",
      "\u001b[90m│   \u001b[39m %64 = koeff\u001b[36m::Float64\u001b[39m\n",
      "\u001b[90m│   \u001b[39m %65 = (%55)(%63, %64)\u001b[36m::Float64\u001b[39m\n",
      "\u001b[90m│   \u001b[39m %66 = (%51)(%54, %65)\u001b[36m::Float64\u001b[39m\n",
      "\u001b[90m│   \u001b[39m %67 = ii@_14\u001b[36m::Int64\u001b[39m\n",
      "\u001b[90m│   \u001b[39m %68 = jj@_11\u001b[36m::Int64\u001b[39m\n",
      "\u001b[90m│   \u001b[39m       Base.setindex!(Ainv, %66, %67, %68)\n",
      "\u001b[90m│   \u001b[39m       (@_9 = Base.iterate(%23, %35))\n",
      "\u001b[90m│   \u001b[39m %71 = @_9\u001b[33m\u001b[1m::Union{Nothing, Tuple{Int64, Int64}}\u001b[22m\u001b[39m\n",
      "\u001b[90m│   \u001b[39m %72 = (%71 === nothing)\u001b[36m::Bool\u001b[39m\n",
      "\u001b[90m│   \u001b[39m %73 = Base.not_int(%72)\u001b[36m::Bool\u001b[39m\n",
      "\u001b[90m└───\u001b[39m       goto #8 if not %73\n",
      "\u001b[90m7 ──\u001b[39m       goto #4\n",
      "\u001b[90m8 ┄─\u001b[39m       (@_7 = Base.iterate(%13, %21))\n",
      "\u001b[90m│   \u001b[39m %77 = @_7\u001b[33m\u001b[1m::Union{Nothing, Tuple{Int64, Int64}}\u001b[22m\u001b[39m\n",
      "\u001b[90m│   \u001b[39m %78 = (%77 === nothing)\u001b[36m::Bool\u001b[39m\n",
      "\u001b[90m│   \u001b[39m %79 = Base.not_int(%78)\u001b[36m::Bool\u001b[39m\n",
      "\u001b[90m└───\u001b[39m       goto #10 if not %79\n",
      "\u001b[90m9 ──\u001b[39m       goto #3\n",
      "\u001b[90m10 ┄\u001b[39m       (@_5 = Base.iterate(%3, %11))\n",
      "\u001b[90m│   \u001b[39m %83 = @_5\u001b[33m\u001b[1m::Union{Nothing, Tuple{Int64, Int64}}\u001b[22m\u001b[39m\n",
      "\u001b[90m│   \u001b[39m %84 = (%83 === nothing)\u001b[36m::Bool\u001b[39m\n",
      "\u001b[90m│   \u001b[39m %85 = Base.not_int(%84)\u001b[36m::Bool\u001b[39m\n",
      "\u001b[90m└───\u001b[39m       goto #12 if not %85\n",
      "\u001b[90m11 ─\u001b[39m       goto #2\n",
      "\u001b[90m12 ┄\u001b[39m       return true\n",
      "\n"
     ]
    }
   ],
   "source": [
    "@code_warntype inv_diagupdate!(A2inv, B, 1e0)"
   ]
  },
  {
   "cell_type": "code",
   "execution_count": null,
   "id": "4f82fe8b-8919-4602-b5f1-2d3fe7679007",
   "metadata": {},
   "outputs": [],
   "source": []
  }
 ],
 "metadata": {
  "kernelspec": {
   "display_name": "Julia 1.11.4",
   "language": "julia",
   "name": "julia-1.11"
  },
  "language_info": {
   "file_extension": ".jl",
   "mimetype": "application/julia",
   "name": "julia",
   "version": "1.11.4"
  }
 },
 "nbformat": 4,
 "nbformat_minor": 5
}
