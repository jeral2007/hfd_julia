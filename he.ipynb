{
 "cells": [
  {
   "cell_type": "code",
   "execution_count": null,
   "id": "587c8f84-44c7-4a91-b6cd-473ecfb5782b",
   "metadata": {},
   "outputs": [],
   "source": [
    "using LinearAlgebra\n",
    "using Plots\n",
    "include(\"polynodes.jl\")\n",
    "include(\"aux_hfd.jl\")\n",
    "include(\"hfdTypes.jl\")\n",
    "include(\"postprocess.jl\")"
   ]
  },
  {
   "cell_type": "code",
   "execution_count": null,
   "id": "54be3e02-b34c-4761-996e-9347019425e6",
   "metadata": {
    "tags": []
   },
   "outputs": [],
   "source": [
    "\"He\"\n",
    "occ = Dict(-1 => [2])\n",
    "N= 33\n",
    "cpars = hfd_funcs.HfdTypes.CalcParams(2e0, N;  scale = 0.01)\n",
    "grid2 = hfd_funcs.leg_rat_grid(N, 1e0)\n",
    "occ_block, ztot = hfd_funcs.from_dict(occ, Float64, N)\n",
    "hfd_funcs.hcore_calc!(cpars, grid2, occ_block)\n",
    "hs = hfd_funcs.hfd_calc!(cpars, grid2, occ_block;tol=1e-9, rc_hard=30);"
   ]
  },
  {
   "cell_type": "code",
   "execution_count": null,
   "id": "75780a8f-398e-4e42-86d5-cb30f2b8f965",
   "metadata": {
    "tags": []
   },
   "outputs": [],
   "source": [
    "\"Ne\"\n",
    "occ = Dict(-1 => [2 2],\n",
    "           1=> [2], -2 => [4])\n",
    "N= 33\n",
    "cpars = hfd_funcs.CalcParams(1e1, N;  scale=0.5)\n",
    "grid2 = hfd_funcs.leg_rat_grid(N, 1e0)\n",
    "occ_block, ztot = hfd_funcs.from_dict(occ, Float64, N)\n",
    "hfd_funcs.hcore_calc!(cpars, grid2, occ_block)\n",
    "@time hfd_funcs.hfd_calc!(cpars, grid2, occ_block;tol=1e-7)"
   ]
  },
  {
   "cell_type": "code",
   "execution_count": null,
   "id": "3fa02b93-4446-4f16-8709-d91afe217123",
   "metadata": {},
   "outputs": [],
   "source": [
    "moms = HfdPostProcess.moments(cpars, grid2, occ_block) \n",
    "HfdPostProcess.report(cpars, grid2, occ_block; sortBy=:rhoav)"
   ]
  },
  {
   "cell_type": "code",
   "execution_count": null,
   "id": "7f4dad02-1655-4d3e-a3c6-10d0993b6cde",
   "metadata": {
    "tags": []
   },
   "outputs": [],
   "source": [
    "\"Kr\"\n",
    "occ = Dict(-1 => [2 2 2],\n",
    "           1=> [2 2], -2 => [4 4])\n",
    "N= 53\n",
    "cpars = hfd_funcs.CalcParams(1.8e1, N;  scale=2.5, alpha=1e-8)\n",
    "cpars = hfd_funcs.CalcParams(1.8e1, N;  scale=1e0)\n",
    "grid2 = hfd_funcs.leg_rat_grid(N, 1e0)\n",
    "occ_block, ztot = hfd_funcs.from_dict(occ, Float64, N)\n",
    "hfd_funcs.hcore_calc!(cpars, grid2, occ_block)\n",
    "hfd_funcs.hfd_calc!(cpars, grid2, occ_block;tol=1e-7)"
   ]
  },
  {
   "cell_type": "code",
   "execution_count": null,
   "id": "3b375611-b931-41f1-9a90-32ac70c291c3",
   "metadata": {},
   "outputs": [],
   "source": [
    "moms = HfdPostProcess.moments(cpars, grid2, occ_block) \n",
    "HfdPostProcess.report(cpars, grid2, occ_block; sortBy=:energy)"
   ]
  },
  {
   "cell_type": "code",
   "execution_count": null,
   "id": "36ffdd3f-6f79-4675-aad9-f18e9396ec5b",
   "metadata": {},
   "outputs": [],
   "source": [
    "hfd_funcs.symb3j0.gam2s(3, 3, 6)"
   ]
  },
  {
   "cell_type": "code",
   "execution_count": null,
   "id": "75d8c421-21b2-4b4b-9d83-2b83975667f3",
   "metadata": {
    "tags": []
   },
   "outputs": [],
   "source": [
    "occ = Dict(-1 => [2 2 2 2],\n",
    "           1=> [2 2 2], -2 => [4 4 4],\n",
    "           2=> [4],     -3 => [6])\n",
    "N= 93\n",
    "cpars = hfd_funcs.CalcParams(3.6e1, N;  scale=0.1, alpha=1e-8)\n",
    "cpars = hfd_funcs.CalcParams(3.6e1, N;  scale=1e0)\n",
    "grid2 = hfd_funcs.leg_rat_grid(N, 1e0)\n",
    "occ_block, ztot = hfd_funcs.from_dict(occ, Float64, N)\n",
    "hfd_funcs.hcore_calc!(cpars, grid2, occ_block);\n",
    "hfd_funcs.hfd_calc!(cpars, grid2, occ_block;tol=1e-7);"
   ]
  },
  {
   "cell_type": "code",
   "execution_count": null,
   "id": "c161389c-8762-4a65-8c1d-6ead24cc0f34",
   "metadata": {},
   "outputs": [],
   "source": [
    "moms = HfdPostProcess.moments(cpars, grid2, occ_block) \n",
    "HfdPostProcess.report(cpars, grid2, occ_block; sortBy=:energy)"
   ]
  },
  {
   "cell_type": "code",
   "execution_count": null,
   "id": "9d130f1a-c96d-4967-8dcd-b248b8541ded",
   "metadata": {},
   "outputs": [],
   "source": [
    "occ_block.ks"
   ]
  },
  {
   "cell_type": "code",
   "execution_count": null,
   "id": "be738d80-19b0-465e-aa4f-20afa1b4cb3f",
   "metadata": {},
   "outputs": [],
   "source": []
  }
 ],
 "metadata": {
  "kernelspec": {
   "display_name": "Julia 1.11.3",
   "language": "julia",
   "name": "julia-1.11"
  },
  "language_info": {
   "file_extension": ".jl",
   "mimetype": "application/julia",
   "name": "julia",
   "version": "1.11.3"
  }
 },
 "nbformat": 4,
 "nbformat_minor": 5
}
