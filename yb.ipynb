{
 "cells": [
  {
   "cell_type": "code",
   "execution_count": null,
   "id": "7138ba56-3642-413a-87ae-66aa38f29cb2",
   "metadata": {},
   "outputs": [],
   "source": [
    "using LinearAlgebra\n",
    "using Plots\n",
    "include(\"polynodes.jl\")\n",
    "include(\"aux_hfd.jl\")\n",
    "include(\"hfdTypes.jl\")\n",
    "include(\"postprocess.jl\")"
   ]
  },
  {
   "cell_type": "code",
   "execution_count": null,
   "id": "611d730f-3bfc-44a8-8a16-0fea960e8a7f",
   "metadata": {
    "tags": []
   },
   "outputs": [],
   "source": [
    "occ = Dict(\n",
    "    -1 => [2 2 2 2 2 2], #s1/2\n",
    "    1  => [2 2 2 2],   #p1/2\n",
    "    -2 => [4 4 4 4],   #p3/2\n",
    "    2  => [4 4],     #d3/2\n",
    "    -3 => [6 6],     #d5/2\n",
    "    3  => [6], #f5/2\n",
    "    -4 => [8]\n",
    "    )\n",
    "#occ = Dict(-1 => [2 2],\n",
    "#            1 => [2],\n",
    "#            -2 => [4])\n",
    "#occ = Dict(-1 => [2])\n",
    "N, Nprec=153, 250\n",
    "Z=70e0\n",
    "grid = hfd_funcs.leg_rat_grid(N, 1e0)\n",
    "#grid_prec = hfd_funcs.leg_exp_grid(Nprec, grid.xs[end])\n",
    "cpars = hfd_funcs.CalcParams(Z, length(grid.xs);scale =0.5, alpha=1e-8)\n",
    "cpars = hfd_funcs.CalcParams(Z, length(grid.xs);scale =0.5)\n",
    "#cpars_prec = hfd_funcs.CalcParams(Z, length(grid_prec.xs))\n",
    "@show(N=length(grid.xs))\n",
    "occ_block, ztot = hfd_funcs.from_dict(occ, Float64, N)\n",
    "println(\"Ztot=$ztot\")\n",
    "@time hfd_funcs.hcore_calc!(cpars, grid, occ_block)\n",
    "@time hs = hfd_funcs.hded_calc!(cpars, grid, occ_block; tol=1e-5, dump=0.3, maxiter=20, rc_hard=30);"
   ]
  },
  {
   "cell_type": "code",
   "execution_count": null,
   "id": "74c171c4-c004-473b-98c9-441569ffff94",
   "metadata": {
    "tags": []
   },
   "outputs": [],
   "source": [
    "rep_hded = HfdPostProcess.report(cpars, grid, occ_block;sortBy=:rhoav);\n",
    "@time hs = hfd_funcs.hfd_calc!(cpars, grid, occ_block; tol=1e-5, dump=0.5, maxiter=40, rc_hard=30);"
   ]
  },
  {
   "cell_type": "code",
   "execution_count": null,
   "id": "3a731efa-9a8b-475c-acac-9f5e5b5db0fb",
   "metadata": {
    "tags": []
   },
   "outputs": [],
   "source": [
    "#@time hfd_funcs.hfd_calc!(cpars, grid, occ_block; tol=1e-5, dump=0.3, maxiter=40, ecp=nothing);\n",
    "rep_hfd = HfdPostProcess.report(cpars, grid, occ_block;sortBy=:rhoav)"
   ]
  }
 ],
 "metadata": {
  "kernelspec": {
   "display_name": "Julia 1.11.3",
   "language": "julia",
   "name": "julia-1.11"
  },
  "language_info": {
   "file_extension": ".jl",
   "mimetype": "application/julia",
   "name": "julia",
   "version": "1.11.3"
  }
 },
 "nbformat": 4,
 "nbformat_minor": 5
}
